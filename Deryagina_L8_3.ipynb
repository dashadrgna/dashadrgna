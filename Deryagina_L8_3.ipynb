{
  "nbformat": 4,
  "nbformat_minor": 0,
  "metadata": {
    "colab": {
      "name": "l8-3.ipynb",
      "provenance": [],
      "authorship_tag": "ABX9TyPr0U5cvcwquYKbUEfQm5AT",
      "include_colab_link": true
    },
    "kernelspec": {
      "name": "python3",
      "display_name": "Python 3"
    },
    "language_info": {
      "name": "python"
    }
  },
  "cells": [
    {
      "cell_type": "markdown",
      "metadata": {
        "id": "view-in-github",
        "colab_type": "text"
      },
      "source": [
        "<a href=\"https://colab.research.google.com/github/dashadrgna/dashadrgna/blob/master/Deryagina_L8_3.ipynb\" target=\"_parent\"><img src=\"https://colab.research.google.com/assets/colab-badge.svg\" alt=\"Open In Colab\"/></a>"
      ]
    },
    {
      "cell_type": "code",
      "execution_count": null,
      "metadata": {
        "id": "Tc8SA5YYhsuv"
      },
      "outputs": [],
      "source": [
        ""
      ]
    },
    {
      "cell_type": "markdown",
      "source": [
        "**Продолжение лабораторной работы №8**\n",
        "\n",
        "def preprocess_text(text, low=True, filter_puncts=True, lemmatize=True):\n",
        "\n",
        "○ провести токенизацию текста;\n",
        "\n",
        "○ если low = True, то привести к нижнему регистру;\n",
        "\n",
        "○ если filter_puncts = True, то отфильтровать знаки пунктуации;\n",
        "\n",
        "○ отфильтровать токены по стоп-словам;\n",
        "\n",
        "○ если lemmatize=True, то провести лемматизацию отфильтрованных\n",
        "токенов; \n",
        "провести стемминг отфильтрованных токенов, если\n",
        "lemmatize=False.\n",
        "\n",
        "if lemmatize:\n",
        "# лемматизация\n",
        "else:\n",
        "# стемминг\n",
        "return tokens\n",
        "\n",
        "text = ‘some text’\n",
        "\n",
        "preprocess(text)\n",
        "\n",
        "text_2 = ‘some other text’\n",
        "\n",
        "preprocess(text_2, lemmatize=False)"
      ],
      "metadata": {
        "id": "_5cmbD27h2Vq"
      }
    },
    {
      "cell_type": "code",
      "source": [
        "import nltk\n",
        "import string   # далее потребуется для списка знаков пунктуации\n",
        "from nltk.corpus import stopwords # стоп-слова\n",
        "nltk.download('stopwords')\n",
        "nltk.download('punkt')  # пунктуация\n",
        "stopwords = stopwords.words('english')\n",
        "nltk.download('wordnet')  # лексическая база английского языка"
      ],
      "metadata": {
        "colab": {
          "base_uri": "https://localhost:8080/"
        },
        "id": "LWiuZM_4jake",
        "outputId": "9e01b7b0-8bcc-43aa-ecdb-38a3c044cf0b"
      },
      "execution_count": null,
      "outputs": [
        {
          "output_type": "stream",
          "name": "stdout",
          "text": [
            "[nltk_data] Downloading package stopwords to /root/nltk_data...\n",
            "[nltk_data]   Unzipping corpora/stopwords.zip.\n",
            "[nltk_data] Downloading package punkt to /root/nltk_data...\n",
            "[nltk_data]   Unzipping tokenizers/punkt.zip.\n",
            "[nltk_data] Downloading package wordnet to /root/nltk_data...\n",
            "[nltk_data]   Unzipping corpora/wordnet.zip.\n"
          ]
        },
        {
          "output_type": "execute_result",
          "data": {
            "text/plain": [
              "True"
            ]
          },
          "metadata": {},
          "execution_count": 11
        }
      ]
    },
    {
      "cell_type": "code",
      "source": [
        "\n",
        "\n",
        "def preprocess_text(text, low=True, filter_puncts=True, lemmatize=True):\n",
        "    if low == True:     # если нужно привести текст к строчным буквам\n",
        "        text = text.lower()\n",
        "    \n",
        "    tokens = nltk.word_tokenize(text) # разложим текст на токены по словам\n",
        "    filtered_tokens = [i for i in tokens if i not in stopwords]   # отфильтруем, исключим стоп-слова\n",
        "\n",
        "    if filter_puncts:     # отфильтруем знаки препинания\n",
        "      list_puncts = list(string.punctuation)  # перечень знаков препинания\n",
        "      filtered_tokens2 = [i for i in filtered_tokens if i not in list_puncts]\n",
        "    else:\n",
        "        filtered_tokens2 = filtered_tokens\n",
        "\n",
        "    final_tokens = []\n",
        "    if lemmatize == True:   # если нужно лемматизировать\n",
        "      wordnet_lemmatizer = nltk.WordNetLemmatizer()\n",
        "      for word in filtered_tokens2:\n",
        "            lemma = wordnet_lemmatizer.lemmatize(word)\n",
        "            final_tokens.append(lemma)\n",
        "    else:       # если нужен стемминг вместо лемматизации ( нам - нет)\n",
        "      p_stemmer = nltk.PorterStemmer()\n",
        "      for word in filtered_tokens2:\n",
        "            stemming = p_stemmer.stem(word)\n",
        "            final_tokens.append(stemming)      \n",
        "    \n",
        "    return final_tokens\n",
        "  \n",
        "text = input(\"Type your text / Введите текст: \")\n",
        "print(preprocess_text(text, low=True, filter_puncts=True, lemmatize=True))  \n",
        "text = input(\"Type your 2nd text / Введите второй текст (lemmatize=false): \")\n",
        "print(preprocess_text(text, low=True, filter_puncts=True, lemmatize=False))  "
      ],
      "metadata": {
        "colab": {
          "base_uri": "https://localhost:8080/"
        },
        "id": "1icDReVQkBgp",
        "outputId": "a6dcc165-74a5-4c17-9e7c-78dc5918738d"
      },
      "execution_count": null,
      "outputs": [
        {
          "output_type": "stream",
          "name": "stdout",
          "text": [
            "Type your text / Введите текст: It provides easy-to-use interfaces to over 50 corpora and lexical resources such as WordNet, along with a suite of text processing libraries for classification, tokenization, stemming, tagging, parsing, and semantic reasoning, wrappers for industrial-strength NLP libraries, and an active discussion forum.\n",
            "['provides', 'easy-to-use', 'interface', '50', 'corpus', 'lexical', 'resource', 'wordnet', 'along', 'suite', 'text', 'processing', 'library', 'classification', 'tokenization', 'stemming', 'tagging', 'parsing', 'semantic', 'reasoning', 'wrapper', 'industrial-strength', 'nlp', 'library', 'active', 'discussion', 'forum']\n",
            "Type your 2nd text / Введите второй текст (lemmatize=false): It provides easy-to-use interfaces to over 50 corpora and lexical resources such as WordNet, along with a suite of text processing libraries for classification, tokenization, stemming, tagging, parsing, and semantic reasoning, wrappers for industrial-strength NLP libraries, and an active discussion forum.\n",
            "['provid', 'easy-to-us', 'interfac', '50', 'corpora', 'lexic', 'resourc', 'wordnet', 'along', 'suit', 'text', 'process', 'librari', 'classif', 'token', 'stem', 'tag', 'pars', 'semant', 'reason', 'wrapper', 'industrial-strength', 'nlp', 'librari', 'activ', 'discuss', 'forum']\n"
          ]
        }
      ]
    },
    {
      "cell_type": "markdown",
      "source": [
        "## **Ниже текст, который можно вводить на запрос в поле ввода:**\n",
        "(copy - paste)"
      ],
      "metadata": {
        "id": "umlOhy5OzeYH"
      }
    },
    {
      "cell_type": "markdown",
      "source": [
        "It provides easy-to-use interfaces to over 50 corpora and lexical resources such as WordNet, along with a suite of text processing libraries for classification, tokenization, stemming, tagging, parsing, and semantic reasoning, wrappers for industrial-strength NLP libraries, and an active discussion forum."
      ],
      "metadata": {
        "id": "QRCizUAyzaDW"
      }
    }
  ]
}