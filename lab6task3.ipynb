{
  "nbformat": 4,
  "nbformat_minor": 0,
  "metadata": {
    "colab": {
      "name": "lab6task3.ipynb",
      "provenance": [],
      "authorship_tag": "ABX9TyOt9hoGxvqD96Snx6CJ8f3J",
      "include_colab_link": true
    },
    "kernelspec": {
      "name": "python3",
      "display_name": "Python 3"
    },
    "language_info": {
      "name": "python"
    }
  },
  "cells": [
    {
      "cell_type": "markdown",
      "metadata": {
        "id": "view-in-github",
        "colab_type": "text"
      },
      "source": [
        "<a href=\"https://colab.research.google.com/github/dashadrgna/dashadrgna/blob/master/lab6task3.ipynb\" target=\"_parent\"><img src=\"https://colab.research.google.com/assets/colab-badge.svg\" alt=\"Open In Colab\"/></a>"
      ]
    },
    {
      "cell_type": "code",
      "execution_count": null,
      "metadata": {
        "colab": {
          "base_uri": "https://localhost:8080/"
        },
        "id": "K90UwSYPP3UY",
        "outputId": "b4f2a358-a736-4159-d92e-03bb1f623c31"
      },
      "outputs": [
        {
          "output_type": "stream",
          "name": "stdout",
          "text": [
            "Введите строку: yellow grey white yellow black grey grey red\n",
            "yellow grey white black red\n"
          ]
        }
      ],
      "source": [
        "# Напишите функцию, которая выполняет удаляет из строки все повторяющиеся слова, оставляя при этом первое вхождение слова.\n",
        "def delete_duplicates(input_string):\n",
        "  input_string = input_string.split (' ')\n",
        "  result = []\n",
        "  for i in input_string:\n",
        "    if i not in result:\n",
        "     result.append(i)\n",
        "  return(' '.join(result))\n",
        "\n",
        "input_string = input('Введите строку: ')\n",
        "# Например: yellow grey white yellow black grey grey red\n",
        "print(delete_duplicates(input_string))"
      ]
    }
  ]
}